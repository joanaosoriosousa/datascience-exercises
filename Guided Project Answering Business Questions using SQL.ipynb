{
 "cells": [
  {
   "cell_type": "markdown",
   "metadata": {
    "collapsed": true
   },
   "source": [
    "# Answering Business Questions Using SQL\n",
    "\n",
    "In this project, we'll analyze data from a SQLite database file called **chinook.db**. This database contains information about a fictional digital music shop divided in eleven tables:\n",
    "\n",
    "- **employee**\n",
    "- **customer**\n",
    "- **invoice**\n",
    "- **invoice_line**\n",
    "- **playlist**\n",
    "- **playlist_track**\n",
    "- **track**\n",
    "- **artist**\n",
    "- **album**\n",
    "- **media_type**\n",
    "- **genre**"
   ]
  },
  {
   "cell_type": "markdown",
   "metadata": {
    "collapsed": true
   },
   "source": [
    "## Connecting Database to Jupyter Notebook\n",
    "\n",
    "We'll start by connecting our Jupyter Notebook to our database file:"
   ]
  },
  {
   "cell_type": "code",
   "execution_count": 1,
   "metadata": {
    "collapsed": false
   },
   "outputs": [
    {
     "data": {
      "text/plain": [
       "'Connected: None@chinook.db'"
      ]
     },
     "execution_count": 1,
     "metadata": {},
     "output_type": "execute_result"
    }
   ],
   "source": [
    "%%capture\n",
    "%load_ext sql\n",
    "%sql sqlite:///chinook.db"
   ]
  },
  {
   "cell_type": "markdown",
   "metadata": {},
   "source": [
    "## Overview of the Data\n",
    "\n",
    "To get an overview of the data, we'll write a query that returns information of all the tables and views in our database file:"
   ]
  },
  {
   "cell_type": "code",
   "execution_count": 2,
   "metadata": {
    "collapsed": false,
    "scrolled": true
   },
   "outputs": [
    {
     "name": "stdout",
     "output_type": "stream",
     "text": [
      "Done.\n"
     ]
    },
    {
     "data": {
      "text/html": [
       "<table>\n",
       "    <tr>\n",
       "        <th>type</th>\n",
       "        <th>name</th>\n",
       "        <th>tbl_name</th>\n",
       "        <th>rootpage</th>\n",
       "        <th>sql</th>\n",
       "    </tr>\n",
       "    <tr>\n",
       "        <td>table</td>\n",
       "        <td>album</td>\n",
       "        <td>album</td>\n",
       "        <td>2</td>\n",
       "        <td>CREATE TABLE [album]<br>(<br>    [album_id] INTEGER PRIMARY KEY NOT NULL,<br>    [title] NVARCHAR(160)  NOT NULL,<br>    [artist_id] INTEGER  NOT NULL,<br>    FOREIGN KEY ([artist_id]) REFERENCES [artist] ([artist_id]) <br>\t\tON DELETE NO ACTION ON UPDATE NO ACTION<br>)</td>\n",
       "    </tr>\n",
       "    <tr>\n",
       "        <td>table</td>\n",
       "        <td>artist</td>\n",
       "        <td>artist</td>\n",
       "        <td>3</td>\n",
       "        <td>CREATE TABLE [artist]<br>(<br>    [artist_id] INTEGER PRIMARY KEY NOT NULL,<br>    [name] NVARCHAR(120)<br>)</td>\n",
       "    </tr>\n",
       "    <tr>\n",
       "        <td>table</td>\n",
       "        <td>customer</td>\n",
       "        <td>customer</td>\n",
       "        <td>4</td>\n",
       "        <td>CREATE TABLE [customer]<br>(<br>    [customer_id] INTEGER PRIMARY KEY NOT NULL,<br>    [first_name] NVARCHAR(40)  NOT NULL,<br>    [last_name] NVARCHAR(20)  NOT NULL,<br>    [company] NVARCHAR(80),<br>    [address] NVARCHAR(70),<br>    [city] NVARCHAR(40),<br>    [state] NVARCHAR(40),<br>    [country] NVARCHAR(40),<br>    [postal_code] NVARCHAR(10),<br>    [phone] NVARCHAR(24),<br>    [fax] NVARCHAR(24),<br>    [email] NVARCHAR(60)  NOT NULL,<br>    [support_rep_id] INTEGER,<br>    FOREIGN KEY ([support_rep_id]) REFERENCES [employee] ([employee_id]) <br>\t\tON DELETE NO ACTION ON UPDATE NO ACTION<br>)</td>\n",
       "    </tr>\n",
       "    <tr>\n",
       "        <td>table</td>\n",
       "        <td>employee</td>\n",
       "        <td>employee</td>\n",
       "        <td>5</td>\n",
       "        <td>CREATE TABLE [employee]<br>(<br>    [employee_id] INTEGER PRIMARY KEY NOT NULL,<br>    [last_name] NVARCHAR(20)  NOT NULL,<br>    [first_name] NVARCHAR(20)  NOT NULL,<br>    [title] NVARCHAR(30),<br>    [reports_to] INTEGER,<br>    [birthdate] DATETIME,<br>    [hire_date] DATETIME,<br>    [address] NVARCHAR(70),<br>    [city] NVARCHAR(40),<br>    [state] NVARCHAR(40),<br>    [country] NVARCHAR(40),<br>    [postal_code] NVARCHAR(10),<br>    [phone] NVARCHAR(24),<br>    [fax] NVARCHAR(24),<br>    [email] NVARCHAR(60),<br>    FOREIGN KEY ([reports_to]) REFERENCES [employee] ([employee_id]) <br>\t\tON DELETE NO ACTION ON UPDATE NO ACTION<br>)</td>\n",
       "    </tr>\n",
       "    <tr>\n",
       "        <td>table</td>\n",
       "        <td>genre</td>\n",
       "        <td>genre</td>\n",
       "        <td>6</td>\n",
       "        <td>CREATE TABLE [genre]<br>(<br>    [genre_id] INTEGER PRIMARY KEY NOT NULL,<br>    [name] NVARCHAR(120)<br>)</td>\n",
       "    </tr>\n",
       "    <tr>\n",
       "        <td>table</td>\n",
       "        <td>invoice</td>\n",
       "        <td>invoice</td>\n",
       "        <td>7</td>\n",
       "        <td>CREATE TABLE [invoice]<br>(<br>    [invoice_id] INTEGER PRIMARY KEY NOT NULL,<br>    [customer_id] INTEGER  NOT NULL,<br>    [invoice_date] DATETIME  NOT NULL,<br>    [billing_address] NVARCHAR(70),<br>    [billing_city] NVARCHAR(40),<br>    [billing_state] NVARCHAR(40),<br>    [billing_country] NVARCHAR(40),<br>    [billing_postal_code] NVARCHAR(10),<br>    [total] NUMERIC(10,2)  NOT NULL,<br>    FOREIGN KEY ([customer_id]) REFERENCES [customer] ([customer_id]) <br>\t\tON DELETE NO ACTION ON UPDATE NO ACTION<br>)</td>\n",
       "    </tr>\n",
       "    <tr>\n",
       "        <td>table</td>\n",
       "        <td>invoice_line</td>\n",
       "        <td>invoice_line</td>\n",
       "        <td>8</td>\n",
       "        <td>CREATE TABLE [invoice_line]<br>(<br>    [invoice_line_id] INTEGER PRIMARY KEY NOT NULL,<br>    [invoice_id] INTEGER  NOT NULL,<br>    [track_id] INTEGER  NOT NULL,<br>    [unit_price] NUMERIC(10,2)  NOT NULL,<br>    [quantity] INTEGER  NOT NULL,<br>    FOREIGN KEY ([invoice_id]) REFERENCES [invoice] ([invoice_id]) <br>\t\tON DELETE NO ACTION ON UPDATE NO ACTION,<br>    FOREIGN KEY ([track_id]) REFERENCES [track] ([track_id]) <br>\t\tON DELETE NO ACTION ON UPDATE NO ACTION<br>)</td>\n",
       "    </tr>\n",
       "    <tr>\n",
       "        <td>table</td>\n",
       "        <td>media_type</td>\n",
       "        <td>media_type</td>\n",
       "        <td>9</td>\n",
       "        <td>CREATE TABLE [media_type]<br>(<br>    [media_type_id] INTEGER PRIMARY KEY NOT NULL,<br>    [name] NVARCHAR(120)<br>)</td>\n",
       "    </tr>\n",
       "    <tr>\n",
       "        <td>table</td>\n",
       "        <td>playlist</td>\n",
       "        <td>playlist</td>\n",
       "        <td>10</td>\n",
       "        <td>CREATE TABLE [playlist]<br>(<br>    [playlist_id] INTEGER PRIMARY KEY NOT NULL,<br>    [name] NVARCHAR(120)<br>)</td>\n",
       "    </tr>\n",
       "    <tr>\n",
       "        <td>table</td>\n",
       "        <td>playlist_track</td>\n",
       "        <td>playlist_track</td>\n",
       "        <td>11</td>\n",
       "        <td>CREATE TABLE [playlist_track]<br>(<br>    [playlist_id] INTEGER  NOT NULL,<br>    [track_id] INTEGER  NOT NULL,<br>    CONSTRAINT [pk_playlist_track] PRIMARY KEY  ([playlist_id], [track_id]),<br>    FOREIGN KEY ([playlist_id]) REFERENCES [playlist] ([playlist_id]) <br>\t\tON DELETE NO ACTION ON UPDATE NO ACTION,<br>    FOREIGN KEY ([track_id]) REFERENCES [track] ([track_id]) <br>\t\tON DELETE NO ACTION ON UPDATE NO ACTION<br>)</td>\n",
       "    </tr>\n",
       "    <tr>\n",
       "        <td>table</td>\n",
       "        <td>track</td>\n",
       "        <td>track</td>\n",
       "        <td>13</td>\n",
       "        <td>CREATE TABLE [track]<br>(<br>    [track_id] INTEGER PRIMARY KEY NOT NULL,<br>    [name] NVARCHAR(200)  NOT NULL,<br>    [album_id] INTEGER,<br>    [media_type_id] INTEGER  NOT NULL,<br>    [genre_id] INTEGER,<br>    [composer] NVARCHAR(220),<br>    [milliseconds] INTEGER  NOT NULL,<br>    [bytes] INTEGER,<br>    [unit_price] NUMERIC(10,2)  NOT NULL,<br>    FOREIGN KEY ([album_id]) REFERENCES [album] ([album_id]) <br>\t\tON DELETE NO ACTION ON UPDATE NO ACTION,<br>    FOREIGN KEY ([genre_id]) REFERENCES [genre] ([genre_id]) <br>\t\tON DELETE NO ACTION ON UPDATE NO ACTION,<br>    FOREIGN KEY ([media_type_id]) REFERENCES [media_type] ([media_type_id]) <br>\t\tON DELETE NO ACTION ON UPDATE NO ACTION<br>)</td>\n",
       "    </tr>\n",
       "    <tr>\n",
       "        <td>view</td>\n",
       "        <td>teste1</td>\n",
       "        <td>teste1</td>\n",
       "        <td>0</td>\n",
       "        <td>CREATE VIEW teste1 AS<br>    SELECT<br>         CASE<br>           WHEN (<br>                 SELECT COUNT(*)<br>                 FROM customer<br>                 WHERE country = c.country<br>                ) = 1 THEN &quot;Other&quot;<br>           ELSE c.country<br>           END AS country,<br>          c.customer_id,<br>          i.total   <br>    FROM customer c<br>    INNER JOIN invoice i ON i.customer_id = c.customer_id<br>    GROUP BY country</td>\n",
       "    </tr>\n",
       "    <tr>\n",
       "        <td>view</td>\n",
       "        <td>teste2</td>\n",
       "        <td>teste2</td>\n",
       "        <td>0</td>\n",
       "        <td>CREATE VIEW teste2 AS<br>    SELECT<br>         CASE<br>           WHEN (<br>                 SELECT COUNT(*)<br>                 FROM customer<br>                 WHERE country = c.country<br>                ) = 1 THEN &quot;Other&quot;<br>           ELSE c.country<br>           END AS country,<br>          c.customer_id,<br>          i.total   <br>    FROM customer c<br>    INNER JOIN invoice i ON i.customer_id = c.customer_id<br>    GROUP BY country</td>\n",
       "    </tr>\n",
       "    <tr>\n",
       "        <td>view</td>\n",
       "        <td>teste3</td>\n",
       "        <td>teste3</td>\n",
       "        <td>0</td>\n",
       "        <td>CREATE VIEW teste3 AS<br>    SELECT<br>         CASE<br>           WHEN (<br>                 SELECT COUNT(*)<br>                 FROM customer<br>                 WHERE country = c.country<br>                ) = 1 THEN &quot;Other&quot;<br>           ELSE c.country<br>           END AS country,<br>          c.customer_id,<br>          i.total   <br>    FROM customer c<br>    INNER JOIN invoice i ON i.customer_id = c.customer_id</td>\n",
       "    </tr>\n",
       "    <tr>\n",
       "        <td>view</td>\n",
       "        <td>teste4</td>\n",
       "        <td>teste4</td>\n",
       "        <td>0</td>\n",
       "        <td>CREATE VIEW teste4 AS<br>    SELECT<br>         CASE<br>           WHEN (<br>                 SELECT COUNT(*)<br>                 FROM customer<br>                 WHERE country = c.country<br>                ) = 1 THEN &quot;Other&quot;<br>           ELSE c.country<br>           END AS country,<br>          c.customer_id,<br>          i.total   <br>    FROM customer c<br>    INNER JOIN invoice i ON i.customer_id = c.customer_id</td>\n",
       "    </tr>\n",
       "    <tr>\n",
       "        <td>view</td>\n",
       "        <td>teste5</td>\n",
       "        <td>teste5</td>\n",
       "        <td>0</td>\n",
       "        <td>CREATE VIEW teste5 AS<br>    SELECT<br>         CASE<br>           WHEN (<br>                 SELECT COUNT(*)<br>                 FROM customer<br>                 WHERE country = c.country<br>                ) = 1 THEN &quot;Other&quot;<br>           ELSE c.country<br>           END AS country,<br>          COUNT(c.customer_id),<br>          i.total   <br>    FROM customer c<br>    INNER JOIN invoice i ON i.customer_id = c.customer_id<br>    GROUP BY country</td>\n",
       "    </tr>\n",
       "    <tr>\n",
       "        <td>view</td>\n",
       "        <td>teste6</td>\n",
       "        <td>teste6</td>\n",
       "        <td>0</td>\n",
       "        <td>CREATE VIEW teste6 AS<br>    SELECT<br>         CASE<br>           WHEN (<br>                 SELECT COUNT(*)<br>                 FROM customer<br>                 WHERE country = c.country<br>                ) = 1 THEN &quot;Other&quot;<br>           ELSE c.country<br>           END AS country,<br>          COUNT(c.customer_id),<br>          i.total   <br>    FROM customer c<br>    INNER JOIN invoice i ON i.customer_id = c.customer_id<br>    GROUP BY country</td>\n",
       "    </tr>\n",
       "    <tr>\n",
       "        <td>view</td>\n",
       "        <td>teste7</td>\n",
       "        <td>teste7</td>\n",
       "        <td>0</td>\n",
       "        <td>CREATE VIEW teste7 AS<br>    SELECT<br>         CASE<br>           WHEN (<br>                 SELECT COUNT(*)<br>                 FROM customer<br>                 WHERE country = c.country<br>                ) = 1 THEN &quot;Other&quot;<br>           ELSE c.country<br>           END AS country,<br>          COUNT(c.customer_id),<br>          i.total   <br>    FROM customer c<br>    INNER JOIN invoice i ON i.customer_id = c.customer_id<br>    GROUP BY country</td>\n",
       "    </tr>\n",
       "    <tr>\n",
       "        <td>view</td>\n",
       "        <td>teste8</td>\n",
       "        <td>teste8</td>\n",
       "        <td>0</td>\n",
       "        <td>CREATE VIEW teste8 AS<br>    SELECT<br>         CASE<br>           WHEN (<br>                 SELECT COUNT(*)<br>                 FROM customer<br>                 WHERE country = c.country<br>                ) = 1 THEN &quot;Other&quot;<br>           ELSE c.country<br>           END AS country,<br>          COUNT(c.customer_id),<br>          i.total   <br>    FROM customer c<br>    INNER JOIN invoice i ON i.customer_id = c.customer_id<br>    GROUP BY country</td>\n",
       "    </tr>\n",
       "    <tr>\n",
       "        <td>view</td>\n",
       "        <td>teste</td>\n",
       "        <td>teste</td>\n",
       "        <td>0</td>\n",
       "        <td>CREATE VIEW teste AS<br>    SELECT<br>        CASE<br>            WHEN (<br>                SELECT COUNT(*)<br>                FROM customer<br>                WHERE country = c.country<br>            ) = 1 THEN &quot;Other&quot;<br>            ELSE c.country<br>            END<br>        AS country,<br>        c.customer_id,<br>        il.unit_price,<br>        i.invoice_id<br>    FROM customer c<br>    INNER JOIN invoice i ON i.customer_id = c.customer_id<br>    INNER JOIN invoice_line il ON il.invoice_id = i.invoice_id<br>    ORDER BY i.total ASC</td>\n",
       "    </tr>\n",
       "</table>"
      ],
      "text/plain": [
       "[('table', 'album', 'album', 2, 'CREATE TABLE [album]\\n(\\n    [album_id] INTEGER PRIMARY KEY NOT NULL,\\n    [title] NVARCHAR(160)  NOT NULL,\\n    [artist_id] INTEGER  NOT NULL,\\n    FOREIGN KEY ([artist_id]) REFERENCES [artist] ([artist_id]) \\n\\t\\tON DELETE NO ACTION ON UPDATE NO ACTION\\n)'),\n",
       " ('table', 'artist', 'artist', 3, 'CREATE TABLE [artist]\\n(\\n    [artist_id] INTEGER PRIMARY KEY NOT NULL,\\n    [name] NVARCHAR(120)\\n)'),\n",
       " ('table', 'customer', 'customer', 4, 'CREATE TABLE [customer]\\n(\\n    [customer_id] INTEGER PRIMARY KEY NOT NULL,\\n    [first_name] NVARCHAR(40)  NOT NULL,\\n    [last_name] NVARCHAR(20)   ... (276 characters truncated) ...  [support_rep_id] INTEGER,\\n    FOREIGN KEY ([support_rep_id]) REFERENCES [employee] ([employee_id]) \\n\\t\\tON DELETE NO ACTION ON UPDATE NO ACTION\\n)'),\n",
       " ('table', 'employee', 'employee', 5, 'CREATE TABLE [employee]\\n(\\n    [employee_id] INTEGER PRIMARY KEY NOT NULL,\\n    [last_name] NVARCHAR(20)  NOT NULL,\\n    [first_name] NVARCHAR(20)   ... (310 characters truncated) ... 4),\\n    [email] NVARCHAR(60),\\n    FOREIGN KEY ([reports_to]) REFERENCES [employee] ([employee_id]) \\n\\t\\tON DELETE NO ACTION ON UPDATE NO ACTION\\n)'),\n",
       " ('table', 'genre', 'genre', 6, 'CREATE TABLE [genre]\\n(\\n    [genre_id] INTEGER PRIMARY KEY NOT NULL,\\n    [name] NVARCHAR(120)\\n)'),\n",
       " ('table', 'invoice', 'invoice', 7, 'CREATE TABLE [invoice]\\n(\\n    [invoice_id] INTEGER PRIMARY KEY NOT NULL,\\n    [customer_id] INTEGER  NOT NULL,\\n    [invoice_date] DATETIME  NOT NUL ... (195 characters truncated) ... tal] NUMERIC(10,2)  NOT NULL,\\n    FOREIGN KEY ([customer_id]) REFERENCES [customer] ([customer_id]) \\n\\t\\tON DELETE NO ACTION ON UPDATE NO ACTION\\n)'),\n",
       " ('table', 'invoice_line', 'invoice_line', 8, 'CREATE TABLE [invoice_line]\\n(\\n    [invoice_line_id] INTEGER PRIMARY KEY NOT NULL,\\n    [invoice_id] INTEGER  NOT NULL,\\n    [track_id] INTEGER  NOT ... (161 characters truncated) ...  DELETE NO ACTION ON UPDATE NO ACTION,\\n    FOREIGN KEY ([track_id]) REFERENCES [track] ([track_id]) \\n\\t\\tON DELETE NO ACTION ON UPDATE NO ACTION\\n)'),\n",
       " ('table', 'media_type', 'media_type', 9, 'CREATE TABLE [media_type]\\n(\\n    [media_type_id] INTEGER PRIMARY KEY NOT NULL,\\n    [name] NVARCHAR(120)\\n)'),\n",
       " ('table', 'playlist', 'playlist', 10, 'CREATE TABLE [playlist]\\n(\\n    [playlist_id] INTEGER PRIMARY KEY NOT NULL,\\n    [name] NVARCHAR(120)\\n)'),\n",
       " ('table', 'playlist_track', 'playlist_track', 11, 'CREATE TABLE [playlist_track]\\n(\\n    [playlist_id] INTEGER  NOT NULL,\\n    [track_id] INTEGER  NOT NULL,\\n    CONSTRAINT [pk_playlist_track] PRIMARY ... (114 characters truncated) ...  DELETE NO ACTION ON UPDATE NO ACTION,\\n    FOREIGN KEY ([track_id]) REFERENCES [track] ([track_id]) \\n\\t\\tON DELETE NO ACTION ON UPDATE NO ACTION\\n)'),\n",
       " ('table', 'track', 'track', 13, 'CREATE TABLE [track]\\n(\\n    [track_id] INTEGER PRIMARY KEY NOT NULL,\\n    [name] NVARCHAR(200)  NOT NULL,\\n    [album_id] INTEGER,\\n    [media_type_ ... (377 characters truncated) ... ON ON UPDATE NO ACTION,\\n    FOREIGN KEY ([media_type_id]) REFERENCES [media_type] ([media_type_id]) \\n\\t\\tON DELETE NO ACTION ON UPDATE NO ACTION\\n)'),\n",
       " ('view', 'teste1', 'teste1', 0, 'CREATE VIEW teste1 AS\\n    SELECT\\n         CASE\\n           WHEN (\\n                 SELECT COUNT(*)\\n                 FROM customer\\n               ... (120 characters truncated) ... n          c.customer_id,\\n          i.total   \\n    FROM customer c\\n    INNER JOIN invoice i ON i.customer_id = c.customer_id\\n    GROUP BY country'),\n",
       " ('view', 'teste2', 'teste2', 0, 'CREATE VIEW teste2 AS\\n    SELECT\\n         CASE\\n           WHEN (\\n                 SELECT COUNT(*)\\n                 FROM customer\\n               ... (120 characters truncated) ... n          c.customer_id,\\n          i.total   \\n    FROM customer c\\n    INNER JOIN invoice i ON i.customer_id = c.customer_id\\n    GROUP BY country'),\n",
       " ('view', 'teste3', 'teste3', 0, 'CREATE VIEW teste3 AS\\n    SELECT\\n         CASE\\n           WHEN (\\n                 SELECT COUNT(*)\\n                 FROM customer\\n               ... (98 characters truncated) ...       END AS country,\\n          c.customer_id,\\n          i.total   \\n    FROM customer c\\n    INNER JOIN invoice i ON i.customer_id = c.customer_id'),\n",
       " ('view', 'teste4', 'teste4', 0, 'CREATE VIEW teste4 AS\\n    SELECT\\n         CASE\\n           WHEN (\\n                 SELECT COUNT(*)\\n                 FROM customer\\n               ... (98 characters truncated) ...       END AS country,\\n          c.customer_id,\\n          i.total   \\n    FROM customer c\\n    INNER JOIN invoice i ON i.customer_id = c.customer_id'),\n",
       " ('view', 'teste5', 'teste5', 0, 'CREATE VIEW teste5 AS\\n    SELECT\\n         CASE\\n           WHEN (\\n                 SELECT COUNT(*)\\n                 FROM customer\\n               ... (127 characters truncated) ...     COUNT(c.customer_id),\\n          i.total   \\n    FROM customer c\\n    INNER JOIN invoice i ON i.customer_id = c.customer_id\\n    GROUP BY country'),\n",
       " ('view', 'teste6', 'teste6', 0, 'CREATE VIEW teste6 AS\\n    SELECT\\n         CASE\\n           WHEN (\\n                 SELECT COUNT(*)\\n                 FROM customer\\n               ... (127 characters truncated) ...     COUNT(c.customer_id),\\n          i.total   \\n    FROM customer c\\n    INNER JOIN invoice i ON i.customer_id = c.customer_id\\n    GROUP BY country'),\n",
       " ('view', 'teste7', 'teste7', 0, 'CREATE VIEW teste7 AS\\n    SELECT\\n         CASE\\n           WHEN (\\n                 SELECT COUNT(*)\\n                 FROM customer\\n               ... (127 characters truncated) ...     COUNT(c.customer_id),\\n          i.total   \\n    FROM customer c\\n    INNER JOIN invoice i ON i.customer_id = c.customer_id\\n    GROUP BY country'),\n",
       " ('view', 'teste8', 'teste8', 0, 'CREATE VIEW teste8 AS\\n    SELECT\\n         CASE\\n           WHEN (\\n                 SELECT COUNT(*)\\n                 FROM customer\\n               ... (127 characters truncated) ...     COUNT(c.customer_id),\\n          i.total   \\n    FROM customer c\\n    INNER JOIN invoice i ON i.customer_id = c.customer_id\\n    GROUP BY country'),\n",
       " ('view', 'teste', 'teste', 0, 'CREATE VIEW teste AS\\n    SELECT\\n        CASE\\n            WHEN (\\n                SELECT COUNT(*)\\n                FROM customer\\n                W ... (213 characters truncated) ... \\n    INNER JOIN invoice i ON i.customer_id = c.customer_id\\n    INNER JOIN invoice_line il ON il.invoice_id = i.invoice_id\\n    ORDER BY i.total ASC')]"
      ]
     },
     "execution_count": 2,
     "metadata": {},
     "output_type": "execute_result"
    }
   ],
   "source": [
    "%%sql\n",
    "SELECT *\n",
    "  FROM sqlite_master\n",
    " WHERE type IN (\"table\",\"view\");"
   ]
  },
  {
   "cell_type": "markdown",
   "metadata": {},
   "source": [
    "The table above shows us the 11 tables and the columns for each table."
   ]
  },
  {
   "cell_type": "markdown",
   "metadata": {},
   "source": [
    "## Determining more popular genres in USA\n",
    "\n",
    "Assuming that the Chinook is going to advertise new albuns in the USA.\n",
    "We've been tasked with selecting the first three albums that will be added to the store, from the next list of artists:\n",
    "\n",
    "- Regal, Hip-Hop\n",
    "- Red Tone, Punk\n",
    "- Meteor and the Girls, Pop\n",
    "- Slim Jim Bites, Blues\n",
    "\n",
    "All this artist don't have any tracks in the store right now, so we only have the artist name and the genre of music.\n",
    "\n",
    "To know which one of the albuns we are going to select, we'll write a query to find out which genres sell the most tracks in the USA and then make a recommendation for the three artists. Firstly, we'll analyse the columns in the invoice table and check in which column appears USA."
   ]
  },
  {
   "cell_type": "code",
   "execution_count": 3,
   "metadata": {
    "collapsed": false
   },
   "outputs": [
    {
     "name": "stdout",
     "output_type": "stream",
     "text": [
      "Done.\n"
     ]
    },
    {
     "data": {
      "text/html": [
       "<table>\n",
       "    <tr>\n",
       "        <th>invoice_id</th>\n",
       "        <th>customer_id</th>\n",
       "        <th>invoice_date</th>\n",
       "        <th>billing_address</th>\n",
       "        <th>billing_city</th>\n",
       "        <th>billing_state</th>\n",
       "        <th>billing_country</th>\n",
       "        <th>billing_postal_code</th>\n",
       "        <th>total</th>\n",
       "    </tr>\n",
       "    <tr>\n",
       "        <td>1</td>\n",
       "        <td>18</td>\n",
       "        <td>2017-01-03 00:00:00</td>\n",
       "        <td>627 Broadway</td>\n",
       "        <td>New York</td>\n",
       "        <td>NY</td>\n",
       "        <td>USA</td>\n",
       "        <td>10012-2612</td>\n",
       "        <td>15.84</td>\n",
       "    </tr>\n",
       "    <tr>\n",
       "        <td>2</td>\n",
       "        <td>30</td>\n",
       "        <td>2017-01-03 00:00:00</td>\n",
       "        <td>230 Elgin Street</td>\n",
       "        <td>Ottawa</td>\n",
       "        <td>ON</td>\n",
       "        <td>Canada</td>\n",
       "        <td>K2P 1L7</td>\n",
       "        <td>9.9</td>\n",
       "    </tr>\n",
       "    <tr>\n",
       "        <td>3</td>\n",
       "        <td>40</td>\n",
       "        <td>2017-01-05 00:00:00</td>\n",
       "        <td>8, Rue Hanovre</td>\n",
       "        <td>Paris</td>\n",
       "        <td>None</td>\n",
       "        <td>France</td>\n",
       "        <td>75002</td>\n",
       "        <td>1.98</td>\n",
       "    </tr>\n",
       "    <tr>\n",
       "        <td>4</td>\n",
       "        <td>18</td>\n",
       "        <td>2017-01-06 00:00:00</td>\n",
       "        <td>627 Broadway</td>\n",
       "        <td>New York</td>\n",
       "        <td>NY</td>\n",
       "        <td>USA</td>\n",
       "        <td>10012-2612</td>\n",
       "        <td>7.92</td>\n",
       "    </tr>\n",
       "    <tr>\n",
       "        <td>5</td>\n",
       "        <td>27</td>\n",
       "        <td>2017-01-07 00:00:00</td>\n",
       "        <td>1033 N Park Ave</td>\n",
       "        <td>Tucson</td>\n",
       "        <td>AZ</td>\n",
       "        <td>USA</td>\n",
       "        <td>85719</td>\n",
       "        <td>16.83</td>\n",
       "    </tr>\n",
       "    <tr>\n",
       "        <td>6</td>\n",
       "        <td>31</td>\n",
       "        <td>2017-01-10 00:00:00</td>\n",
       "        <td>194A Chain Lake Drive</td>\n",
       "        <td>Halifax</td>\n",
       "        <td>NS</td>\n",
       "        <td>Canada</td>\n",
       "        <td>B3S 1C5</td>\n",
       "        <td>1.98</td>\n",
       "    </tr>\n",
       "    <tr>\n",
       "        <td>7</td>\n",
       "        <td>49</td>\n",
       "        <td>2017-01-12 00:00:00</td>\n",
       "        <td>Ordynacka 10</td>\n",
       "        <td>Warsaw</td>\n",
       "        <td>None</td>\n",
       "        <td>Poland</td>\n",
       "        <td>00-358</td>\n",
       "        <td>10.89</td>\n",
       "    </tr>\n",
       "    <tr>\n",
       "        <td>8</td>\n",
       "        <td>59</td>\n",
       "        <td>2017-01-13 00:00:00</td>\n",
       "        <td>3,Raj Bhavan Road</td>\n",
       "        <td>Bangalore</td>\n",
       "        <td>None</td>\n",
       "        <td>India</td>\n",
       "        <td>560001</td>\n",
       "        <td>9.9</td>\n",
       "    </tr>\n",
       "    <tr>\n",
       "        <td>9</td>\n",
       "        <td>18</td>\n",
       "        <td>2017-01-18 00:00:00</td>\n",
       "        <td>627 Broadway</td>\n",
       "        <td>New York</td>\n",
       "        <td>NY</td>\n",
       "        <td>USA</td>\n",
       "        <td>10012-2612</td>\n",
       "        <td>8.91</td>\n",
       "    </tr>\n",
       "    <tr>\n",
       "        <td>10</td>\n",
       "        <td>31</td>\n",
       "        <td>2017-01-18 00:00:00</td>\n",
       "        <td>194A Chain Lake Drive</td>\n",
       "        <td>Halifax</td>\n",
       "        <td>NS</td>\n",
       "        <td>Canada</td>\n",
       "        <td>B3S 1C5</td>\n",
       "        <td>1.98</td>\n",
       "    </tr>\n",
       "</table>"
      ],
      "text/plain": [
       "[(1, 18, '2017-01-03 00:00:00', '627 Broadway', 'New York', 'NY', 'USA', '10012-2612', 15.84),\n",
       " (2, 30, '2017-01-03 00:00:00', '230 Elgin Street', 'Ottawa', 'ON', 'Canada', 'K2P 1L7', 9.9),\n",
       " (3, 40, '2017-01-05 00:00:00', '8, Rue Hanovre', 'Paris', 'None', 'France', '75002', 1.98),\n",
       " (4, 18, '2017-01-06 00:00:00', '627 Broadway', 'New York', 'NY', 'USA', '10012-2612', 7.92),\n",
       " (5, 27, '2017-01-07 00:00:00', '1033 N Park Ave', 'Tucson', 'AZ', 'USA', '85719', 16.83),\n",
       " (6, 31, '2017-01-10 00:00:00', '194A Chain Lake Drive', 'Halifax', 'NS', 'Canada', 'B3S 1C5', 1.98),\n",
       " (7, 49, '2017-01-12 00:00:00', 'Ordynacka 10', 'Warsaw', 'None', 'Poland', '00-358', 10.89),\n",
       " (8, 59, '2017-01-13 00:00:00', '3,Raj Bhavan Road', 'Bangalore', 'None', 'India', '560001', 9.9),\n",
       " (9, 18, '2017-01-18 00:00:00', '627 Broadway', 'New York', 'NY', 'USA', '10012-2612', 8.91),\n",
       " (10, 31, '2017-01-18 00:00:00', '194A Chain Lake Drive', 'Halifax', 'NS', 'Canada', 'B3S 1C5', 1.98)]"
      ]
     },
     "execution_count": 3,
     "metadata": {},
     "output_type": "execute_result"
    }
   ],
   "source": [
    "%%sql\n",
    "SELECT *\n",
    "  FROM invoice\n",
    " LIMIT 10;"
   ]
  },
  {
   "cell_type": "markdown",
   "metadata": {},
   "source": [
    "We can see that the USA appears in the BillingCountry."
   ]
  },
  {
   "cell_type": "code",
   "execution_count": 4,
   "metadata": {
    "collapsed": false
   },
   "outputs": [
    {
     "name": "stdout",
     "output_type": "stream",
     "text": [
      "Done.\n"
     ]
    },
    {
     "data": {
      "text/html": [
       "<table>\n",
       "    <tr>\n",
       "        <th>genre</th>\n",
       "        <th>country</th>\n",
       "        <th>count</th>\n",
       "        <th>percentage</th>\n",
       "    </tr>\n",
       "    <tr>\n",
       "        <td>Rock</td>\n",
       "        <td>USA</td>\n",
       "        <td>561</td>\n",
       "        <td>0.5337773549000951</td>\n",
       "    </tr>\n",
       "    <tr>\n",
       "        <td>Alternative &amp; Punk</td>\n",
       "        <td>USA</td>\n",
       "        <td>130</td>\n",
       "        <td>0.12369172216936251</td>\n",
       "    </tr>\n",
       "    <tr>\n",
       "        <td>Metal</td>\n",
       "        <td>USA</td>\n",
       "        <td>124</td>\n",
       "        <td>0.11798287345385347</td>\n",
       "    </tr>\n",
       "    <tr>\n",
       "        <td>R&amp;B/Soul</td>\n",
       "        <td>USA</td>\n",
       "        <td>53</td>\n",
       "        <td>0.05042816365366318</td>\n",
       "    </tr>\n",
       "    <tr>\n",
       "        <td>Blues</td>\n",
       "        <td>USA</td>\n",
       "        <td>36</td>\n",
       "        <td>0.03425309229305423</td>\n",
       "    </tr>\n",
       "    <tr>\n",
       "        <td>Alternative</td>\n",
       "        <td>USA</td>\n",
       "        <td>35</td>\n",
       "        <td>0.03330161750713606</td>\n",
       "    </tr>\n",
       "    <tr>\n",
       "        <td>Latin</td>\n",
       "        <td>USA</td>\n",
       "        <td>22</td>\n",
       "        <td>0.02093244529019981</td>\n",
       "    </tr>\n",
       "    <tr>\n",
       "        <td>Pop</td>\n",
       "        <td>USA</td>\n",
       "        <td>22</td>\n",
       "        <td>0.02093244529019981</td>\n",
       "    </tr>\n",
       "    <tr>\n",
       "        <td>Hip Hop/Rap</td>\n",
       "        <td>USA</td>\n",
       "        <td>20</td>\n",
       "        <td>0.019029495718363463</td>\n",
       "    </tr>\n",
       "    <tr>\n",
       "        <td>Jazz</td>\n",
       "        <td>USA</td>\n",
       "        <td>14</td>\n",
       "        <td>0.013320647002854425</td>\n",
       "    </tr>\n",
       "</table>"
      ],
      "text/plain": [
       "[('Rock', 'USA', 561, 0.5337773549000951),\n",
       " ('Alternative & Punk', 'USA', 130, 0.12369172216936251),\n",
       " ('Metal', 'USA', 124, 0.11798287345385347),\n",
       " ('R&B/Soul', 'USA', 53, 0.05042816365366318),\n",
       " ('Blues', 'USA', 36, 0.03425309229305423),\n",
       " ('Alternative', 'USA', 35, 0.03330161750713606),\n",
       " ('Latin', 'USA', 22, 0.02093244529019981),\n",
       " ('Pop', 'USA', 22, 0.02093244529019981),\n",
       " ('Hip Hop/Rap', 'USA', 20, 0.019029495718363463),\n",
       " ('Jazz', 'USA', 14, 0.013320647002854425)]"
      ]
     },
     "execution_count": 4,
     "metadata": {},
     "output_type": "execute_result"
    }
   ],
   "source": [
    "%%sql\n",
    "\n",
    "WITH usa_data AS \n",
    "              (\n",
    "               SELECT *\n",
    "               FROM track t\n",
    "               INNER JOIN invoice_line il ON il.track_id = t.track_id\n",
    "               INNER JOIN invoice i ON i.invoice_id = il.invoice_id\n",
    "               INNER JOIN customer c ON c.customer_id = i.customer_id\n",
    "               WHERE c.country = 'USA'\n",
    "              )\n",
    "    \n",
    "SELECT g.name genre,\n",
    "       usa_data.country country,\n",
    "       COUNT(g.name) count,\n",
    "       cast(COUNT(g.name) AS FLOAT) / (SELECT COUNT(*)\n",
    "                                              FROM usa_data) percentage\n",
    "FROM usa_data\n",
    "INNER JOIN genre g ON g.genre_id = usa_data.genre_id\n",
    "WHERE usa_data.country = 'USA'\n",
    "GROUP BY genre\n",
    "ORDER BY count DESC\n",
    "LIMIT 10;"
   ]
  },
  {
   "cell_type": "markdown",
   "metadata": {},
   "source": [
    "We can observe that the genres in the list above that have more number tracks sold in the USA are Punk, Blues and Pop so the first three albums that should be added to the store are: Red Tone, Slim Jim Bites and Meteor and the Girls. "
   ]
  },
  {
   "cell_type": "markdown",
   "metadata": {},
   "source": [
    "## Analyzing employee performance"
   ]
  },
  {
   "cell_type": "markdown",
   "metadata": {
    "collapsed": true
   },
   "source": [
    "Each customer for the Chinook store gets assigned to a sales support agent within the company when they first make a purchase. You have been asked to analyze the purchases of customers belonging to each employee to see if any sales support agent is performing either better or worse than the others. \n",
    "We will find the total dollar amount of sales assigned to each sales support agent within the company."
   ]
  },
  {
   "cell_type": "code",
   "execution_count": 5,
   "metadata": {
    "collapsed": false
   },
   "outputs": [
    {
     "name": "stdout",
     "output_type": "stream",
     "text": [
      "Done.\n"
     ]
    },
    {
     "data": {
      "text/html": [
       "<table>\n",
       "    <tr>\n",
       "        <th>employee</th>\n",
       "        <th>hire_date</th>\n",
       "        <th>number_customers</th>\n",
       "        <th>total_sales</th>\n",
       "    </tr>\n",
       "    <tr>\n",
       "        <td>Jane Peacock</td>\n",
       "        <td>2017-04-01 00:00:00</td>\n",
       "        <td>212</td>\n",
       "        <td>1731</td>\n",
       "    </tr>\n",
       "    <tr>\n",
       "        <td>Margaret Park</td>\n",
       "        <td>2017-05-03 00:00:00</td>\n",
       "        <td>214</td>\n",
       "        <td>1584</td>\n",
       "    </tr>\n",
       "    <tr>\n",
       "        <td>Steve Johnson</td>\n",
       "        <td>2017-10-17 00:00:00</td>\n",
       "        <td>188</td>\n",
       "        <td>1393</td>\n",
       "    </tr>\n",
       "</table>"
      ],
      "text/plain": [
       "[('Jane Peacock', '2017-04-01 00:00:00', 212, 1731),\n",
       " ('Margaret Park', '2017-05-03 00:00:00', 214, 1584),\n",
       " ('Steve Johnson', '2017-10-17 00:00:00', 188, 1393)]"
      ]
     },
     "execution_count": 5,
     "metadata": {},
     "output_type": "execute_result"
    }
   ],
   "source": [
    "%%sql\n",
    "\n",
    "SELECT e.first_name || ' ' || e.last_name AS employee,\n",
    "       e.hire_date,\n",
    "       COUNT(i.customer_id) AS number_customers,\n",
    "       CAST(SUM(i.total) AS INT) AS total_sales\n",
    "FROM customer c\n",
    "INNER JOIN employee e ON e.employee_id = c.support_rep_id\n",
    "INNER JOIN invoice i ON i.customer_id = c.customer_id\n",
    "INNER JOIN invoice_line il ON il.invoice_line_id = i.invoice_id\n",
    "GROUP BY 1;"
   ]
  },
  {
   "cell_type": "markdown",
   "metadata": {},
   "source": [
    "We can see that Jane Peacock has the highest total dollar amount of sales assigned. There's a difference of 19,5\\% between the total invoices of Jane Peacock and Steve Johnson. However, this difference is very small comparing with the diffrences between the hiring dates."
   ]
  },
  {
   "cell_type": "markdown",
   "metadata": {},
   "source": [
    "## Analyzing sales data for customers from different countries"
   ]
  },
  {
   "cell_type": "markdown",
   "metadata": {},
   "source": [
    "Your next task is to analyze the sales data for customers from each different country. You have been given guidance to use the country value from the customers table, and ignore the country from the billing address in the invoice table."
   ]
  },
  {
   "cell_type": "markdown",
   "metadata": {},
   "source": [
    "In particular, you have been directed to calculate data, for each country, on the:\n",
    "\n",
    "- total number of customers \n",
    "- total value of sales\n",
    "- average value of sales per customer\n",
    "- average order value\n"
   ]
  },
  {
   "cell_type": "code",
   "execution_count": 6,
   "metadata": {
    "collapsed": false
   },
   "outputs": [
    {
     "name": "stdout",
     "output_type": "stream",
     "text": [
      "Done.\n",
      "Done.\n"
     ]
    },
    {
     "data": {
      "text/plain": [
       "[]"
      ]
     },
     "execution_count": 6,
     "metadata": {},
     "output_type": "execute_result"
    }
   ],
   "source": [
    "%%sql\n",
    "\n",
    "DROP VIEW if exists teste;\n",
    "\n",
    "CREATE VIEW teste AS\n",
    "    SELECT\n",
    "        CASE\n",
    "            WHEN (\n",
    "                SELECT COUNT(*)\n",
    "                FROM customer\n",
    "                WHERE country = c.country\n",
    "            ) = 1 THEN \"Other\"\n",
    "            ELSE c.country\n",
    "            END\n",
    "        AS country,\n",
    "        c.customer_id,\n",
    "        il.unit_price,\n",
    "        i.invoice_id\n",
    "    FROM customer c\n",
    "    INNER JOIN invoice i ON i.customer_id = c.customer_id\n",
    "    INNER JOIN invoice_line il ON il.invoice_id = i.invoice_id\n",
    "    ORDER BY i.total ASC;"
   ]
  },
  {
   "cell_type": "code",
   "execution_count": 7,
   "metadata": {
    "collapsed": false
   },
   "outputs": [
    {
     "name": "stdout",
     "output_type": "stream",
     "text": [
      "Done.\n"
     ]
    },
    {
     "data": {
      "text/html": [
       "<table>\n",
       "    <tr>\n",
       "        <th>country</th>\n",
       "        <th>number_customers</th>\n",
       "        <th>total_sales</th>\n",
       "        <th>avg_value_sales</th>\n",
       "        <th>average_order</th>\n",
       "    </tr>\n",
       "    <tr>\n",
       "        <td>USA</td>\n",
       "        <td>13</td>\n",
       "        <td>1040.49</td>\n",
       "        <td>80.04</td>\n",
       "        <td>7.94</td>\n",
       "    </tr>\n",
       "    <tr>\n",
       "        <td>Canada</td>\n",
       "        <td>8</td>\n",
       "        <td>535.59</td>\n",
       "        <td>66.95</td>\n",
       "        <td>7.05</td>\n",
       "    </tr>\n",
       "    <tr>\n",
       "        <td>Brazil</td>\n",
       "        <td>5</td>\n",
       "        <td>427.68</td>\n",
       "        <td>85.54</td>\n",
       "        <td>7.01</td>\n",
       "    </tr>\n",
       "    <tr>\n",
       "        <td>France</td>\n",
       "        <td>5</td>\n",
       "        <td>389.07</td>\n",
       "        <td>77.81</td>\n",
       "        <td>7.78</td>\n",
       "    </tr>\n",
       "    <tr>\n",
       "        <td>Germany</td>\n",
       "        <td>4</td>\n",
       "        <td>334.62</td>\n",
       "        <td>83.66</td>\n",
       "        <td>8.16</td>\n",
       "    </tr>\n",
       "    <tr>\n",
       "        <td>United Kingdom</td>\n",
       "        <td>3</td>\n",
       "        <td>245.52</td>\n",
       "        <td>81.84</td>\n",
       "        <td>8.77</td>\n",
       "    </tr>\n",
       "    <tr>\n",
       "        <td>Czech Republic</td>\n",
       "        <td>2</td>\n",
       "        <td>273.24</td>\n",
       "        <td>136.62</td>\n",
       "        <td>9.11</td>\n",
       "    </tr>\n",
       "    <tr>\n",
       "        <td>India</td>\n",
       "        <td>2</td>\n",
       "        <td>183.15</td>\n",
       "        <td>91.58</td>\n",
       "        <td>8.72</td>\n",
       "    </tr>\n",
       "    <tr>\n",
       "        <td>Portugal</td>\n",
       "        <td>2</td>\n",
       "        <td>185.13</td>\n",
       "        <td>92.57</td>\n",
       "        <td>6.38</td>\n",
       "    </tr>\n",
       "    <tr>\n",
       "        <td>Other</td>\n",
       "        <td>15</td>\n",
       "        <td>1094.94</td>\n",
       "        <td>73.0</td>\n",
       "        <td>7.45</td>\n",
       "    </tr>\n",
       "</table>"
      ],
      "text/plain": [
       "[('USA', 13, 1040.49, 80.04, 7.94),\n",
       " ('Canada', 8, 535.59, 66.95, 7.05),\n",
       " ('Brazil', 5, 427.68, 85.54, 7.01),\n",
       " ('France', 5, 389.07, 77.81, 7.78),\n",
       " ('Germany', 4, 334.62, 83.66, 8.16),\n",
       " ('United Kingdom', 3, 245.52, 81.84, 8.77),\n",
       " ('Czech Republic', 2, 273.24, 136.62, 9.11),\n",
       " ('India', 2, 183.15, 91.58, 8.72),\n",
       " ('Portugal', 2, 185.13, 92.57, 6.38),\n",
       " ('Other', 15, 1094.94, 73.0, 7.45)]"
      ]
     },
     "execution_count": 7,
     "metadata": {},
     "output_type": "execute_result"
    }
   ],
   "source": [
    "%%sql\n",
    "SELECT\n",
    "    country,\n",
    "    COUNT(distinct customer_id) number_customers,\n",
    "    ROUND(SUM(unit_price), 2) total_sales,\n",
    "    ROUND(SUM(unit_price) / count(distinct customer_id),2) avg_value_sales,\n",
    "    ROUND(SUM(unit_price) / count(distinct invoice_id),2) average_order\n",
    "FROM (\n",
    "    SELECT\n",
    "        teste.*,\n",
    "        CASE\n",
    "            WHEN teste.country = \"Other\" THEN 1\n",
    "            ELSE 0\n",
    "        END AS sort\n",
    "    FROM teste\n",
    ")\n",
    "GROUP BY country\n",
    "ORDER BY sort ASC, 2 DESC;"
   ]
  },
  {
   "cell_type": "markdown",
   "metadata": {
    "collapsed": true
   },
   "source": [
    "Based on the results, we can conclude that the USA is by far the most important country for sales. When we look at the average order value, there may be opportunities in the Czech Republic, United Kingdom and India."
   ]
  }
 ],
 "metadata": {
  "kernelspec": {
   "display_name": "Python 3",
   "language": "python",
   "name": "python3"
  },
  "language_info": {
   "codemirror_mode": {
    "name": "ipython",
    "version": 3
   },
   "file_extension": ".py",
   "mimetype": "text/x-python",
   "name": "python",
   "nbconvert_exporter": "python",
   "pygments_lexer": "ipython3",
   "version": "3.4.3"
  }
 },
 "nbformat": 4,
 "nbformat_minor": 2
}
