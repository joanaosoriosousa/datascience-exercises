{
 "cells": [
  {
   "cell_type": "markdown",
   "metadata": {},
   "source": [
    "# **Exploring Hacker News Posts**\n",
    "\n",
    "**Final project of the module *Python for Data Science : Intermediate*.**\n",
    "\n",
    "In this project, we will explore user-submitted stories (\"posts\") to the site Hacker News. The storied are voted and commented upon. The posts that make it to the top of the list can get many visitors as a result.\n",
    "\n",
    "The data that is going to be analysed is divided into the following categories:\n",
    "\n",
    "- **id:** identifier for the post;\n",
    "- **title:** title of the post;\n",
    "- **url:** URL that the posts links to;\n",
    "- **num_points**: number of points the post acquired, calculated as the total number of upvotes minus the total number of downvotes;\n",
    "- **num_comments:** number of comments that were made on the post;\n",
    "- **author:** username of the person who submitted the post;\n",
    "- **created_at:** date and time when the post was submitted.\n",
    "\n",
    "We are going to analyse the posts whose titles begin with either *Ask HN* or *Show HN*. Users submit *Ask HN* posts to ask questions to the Hacker News community and submit *Show HN* posts to show the Hacker News community a project, or just generally something interesting. \n",
    "\n",
    "We will compare these two types of posts to determine the following:\n",
    "\n",
    "- **Which one receives more comments on average?**\n",
    "- **Do posts created at a certain time receive more comments on average?**"
   ]
  },
  {
   "cell_type": "markdown",
   "metadata": {},
   "source": [
    "## Exploring the Data\n",
    "\n",
    "We'll start by opening the dataset and explore it."
   ]
  },
  {
   "cell_type": "code",
   "execution_count": 1,
   "metadata": {},
   "outputs": [],
   "source": [
    "# Read the dataset into a list of lists\n",
    "\n",
    "from csv import reader\n",
    "\n",
    "opened_file = open('HN_posts_year_to_Sep_26_2016.csv')\n",
    "read_file = reader(opened_file)\n",
    "hn = list(read_file)\n",
    "hn_header = hn[0]\n",
    "# Remove the header\n",
    "hn = hn[1:]           "
   ]
  },
  {
   "cell_type": "code",
   "execution_count": 2,
   "metadata": {},
   "outputs": [],
   "source": [
    "# explore_data() is a function that allows to explore rows and shows the number of rows and columns of a dataset\n",
    "\n",
    "def explore_data(dataset, start, end, rows_and_columns = False):\n",
    "    \n",
    "    data_sample = dataset[start:end]\n",
    "    \n",
    "    for row in data_sample:\n",
    "        print(row)\n",
    "        print('\\n')\n",
    "        \n",
    "    if rows_and_columns:\n",
    "        print('Number of rows:', len(dataset))\n",
    "        print('Number of columns:', len(dataset[0]))"
   ]
  },
  {
   "cell_type": "code",
   "execution_count": 3,
   "metadata": {},
   "outputs": [
    {
     "name": "stdout",
     "output_type": "stream",
     "text": [
      "['id', 'title', 'url', 'num_points', 'num_comments', 'author', 'created_at']\n",
      "\n",
      "\n",
      "['12579008', 'You have two days to comment if you want stem cells to be classified as your own', 'http://www.regulations.gov/document?D=FDA-2015-D-3719-0018', '1', '0', 'altstar', '9/26/2016 3:26']\n",
      "\n",
      "\n",
      "['12579005', 'SQLAR  the SQLite Archiver', 'https://www.sqlite.org/sqlar/doc/trunk/README.md', '1', '0', 'blacksqr', '9/26/2016 3:24']\n",
      "\n",
      "\n",
      "['12578997', 'What if we just printed a flatscreen television on the side of our boxes?', 'https://medium.com/vanmoof/our-secrets-out-f21c1f03fdc8#.ietxmez43', '1', '0', 'pavel_lishin', '9/26/2016 3:19']\n",
      "\n",
      "\n",
      "['12578989', 'algorithmic music', 'http://cacm.acm.org/magazines/2011/7/109891-algorithmic-composition/fulltext', '1', '0', 'poindontcare', '9/26/2016 3:16']\n",
      "\n",
      "\n",
      "Number of rows: 293119\n",
      "Number of columns: 7\n"
     ]
    }
   ],
   "source": [
    "# Explore the data hn and print the first five row\n",
    "\n",
    "print(hn_header)\n",
    "print('\\n')\n",
    "explore_data(hn, 0, 4, True)"
   ]
  },
  {
   "cell_type": "markdown",
   "metadata": {},
   "source": [
    "## Extracting Ask HN and Show HN posts"
   ]
  },
  {
   "cell_type": "code",
   "execution_count": 4,
   "metadata": {},
   "outputs": [],
   "source": [
    "# Filter the data and select only the posts that begin with Ask HN or Show HN\n",
    "\n",
    "ask_posts = []    # list of lists with the posts that begin with Ask HN\n",
    "show_posts = []   # list of lists with the posts that begin with Show HN\n",
    "other_posts = []  \n",
    "\n",
    "for row in hn:\n",
    "    \n",
    "    title = row[1]\n",
    "    \n",
    "    if title.lower().startswith('ask hn'):\n",
    "        ask_posts.append(row)\n",
    "        \n",
    "    elif title.lower().startswith('show hn'):\n",
    "        show_posts.append(row)\n",
    "    \n",
    "    else:\n",
    "        other_posts.append(row)"
   ]
  },
  {
   "cell_type": "code",
   "execution_count": 5,
   "metadata": {},
   "outputs": [
    {
     "name": "stdout",
     "output_type": "stream",
     "text": [
      "['id', 'title', 'url', 'num_points', 'num_comments', 'author', 'created_at']\n",
      "\n",
      "\n",
      "['12578908', 'Ask HN: What TLD do you use for local development?', '', '4', '7', 'Sevrene', '9/26/2016 2:53']\n",
      "\n",
      "\n",
      "['12578522', 'Ask HN: How do you pass on your work when you die?', '', '6', '3', 'PascLeRasc', '9/26/2016 1:17']\n",
      "\n",
      "\n",
      "['12577908', 'Ask HN: How a DNS problem can be limited to a geographic region?', '', '1', '0', 'kuon', '9/25/2016 22:57']\n",
      "\n",
      "\n",
      "['12577870', 'Ask HN: Why join a fund when you can be an angel?', '', '1', '3', 'anthony_james', '9/25/2016 22:48']\n",
      "\n",
      "\n",
      "Number of rows: 9139\n",
      "Number of columns: 7\n"
     ]
    }
   ],
   "source": [
    "# Explore the data ask_posts and print the first five rows\n",
    "\n",
    "print(hn_header)\n",
    "print('\\n')\n",
    "explore_data(ask_posts, 0, 4, True)"
   ]
  },
  {
   "cell_type": "code",
   "execution_count": 6,
   "metadata": {},
   "outputs": [
    {
     "name": "stdout",
     "output_type": "stream",
     "text": [
      "['id', 'title', 'url', 'num_points', 'num_comments', 'author', 'created_at']\n",
      "\n",
      "\n",
      "['12578335', 'Show HN: Finding puns computationally', 'http://puns.samueltaylor.org/', '2', '0', 'saamm', '9/26/2016 0:36']\n",
      "\n",
      "\n",
      "['12578182', 'Show HN: A simple library for complicated animations', 'https://christinecha.github.io/choreographer-js/', '1', '0', 'christinecha', '9/26/2016 0:01']\n",
      "\n",
      "\n",
      "['12578098', 'Show HN: WebGL visualization of DNA sequences', 'http://grondilu.github.io/dna.html', '1', '0', 'grondilu', '9/25/2016 23:44']\n",
      "\n",
      "\n",
      "['12577991', 'Show HN: Pomodoro-centric, heirarchical project management with ES6 modules', 'https://github.com/jakebian/zeal', '2', '0', 'dbranes', '9/25/2016 23:17']\n",
      "\n",
      "\n",
      "Number of rows: 10158\n",
      "Number of columns: 7\n"
     ]
    }
   ],
   "source": [
    "# Explore the data show_posts and print the first five rows\n",
    "\n",
    "print(hn_header)\n",
    "print('\\n')\n",
    "explore_data(show_posts, 0, 4, True)"
   ]
  },
  {
   "cell_type": "code",
   "execution_count": 7,
   "metadata": {},
   "outputs": [
    {
     "name": "stdout",
     "output_type": "stream",
     "text": [
      "['id', 'title', 'url', 'num_points', 'num_comments', 'author', 'created_at']\n",
      "\n",
      "\n",
      "['12579008', 'You have two days to comment if you want stem cells to be classified as your own', 'http://www.regulations.gov/document?D=FDA-2015-D-3719-0018', '1', '0', 'altstar', '9/26/2016 3:26']\n",
      "\n",
      "\n",
      "['12579005', 'SQLAR  the SQLite Archiver', 'https://www.sqlite.org/sqlar/doc/trunk/README.md', '1', '0', 'blacksqr', '9/26/2016 3:24']\n",
      "\n",
      "\n",
      "['12578997', 'What if we just printed a flatscreen television on the side of our boxes?', 'https://medium.com/vanmoof/our-secrets-out-f21c1f03fdc8#.ietxmez43', '1', '0', 'pavel_lishin', '9/26/2016 3:19']\n",
      "\n",
      "\n",
      "['12578989', 'algorithmic music', 'http://cacm.acm.org/magazines/2011/7/109891-algorithmic-composition/fulltext', '1', '0', 'poindontcare', '9/26/2016 3:16']\n",
      "\n",
      "\n",
      "Number of rows: 273822\n",
      "Number of columns: 7\n"
     ]
    }
   ],
   "source": [
    "# Explore the data other_posts and print the first five rows\n",
    "\n",
    "print(hn_header)\n",
    "print('\\n')\n",
    "explore_data(other_posts, 0, 4, True)"
   ]
  },
  {
   "cell_type": "markdown",
   "metadata": {},
   "source": [
    "## Discovering the most commented posts\n",
    "\n",
    "Now we are going to determine if *ask posts* or *show posts* receive more comments on average."
   ]
  },
  {
   "cell_type": "code",
   "execution_count": 8,
   "metadata": {},
   "outputs": [
    {
     "name": "stdout",
     "output_type": "stream",
     "text": [
      "Total number of comments on ask posts: 94986\n",
      "Average number of comments on ask posts: 10.39\n"
     ]
    }
   ],
   "source": [
    "# Find the total number of comments on ask_posts\n",
    "\n",
    "total_ask_comments = 0\n",
    "\n",
    "for row in ask_posts:\n",
    "    num_comments = int(row[4])\n",
    "    total_ask_comments += num_comments\n",
    "    \n",
    "avg_ask_comments = total_ask_comments/len(ask_posts)\n",
    "\n",
    "print(\"Total number of comments on ask posts:\", total_ask_comments)\n",
    "print(\"Average number of comments on ask posts: {:.2f}\".format(avg_ask_comments))"
   ]
  },
  {
   "cell_type": "code",
   "execution_count": 9,
   "metadata": {},
   "outputs": [
    {
     "name": "stdout",
     "output_type": "stream",
     "text": [
      "Total number of comments on show posts: 49633\n",
      "Average number of comments on ask posts: 4.89\n"
     ]
    }
   ],
   "source": [
    "# Find the total number of comments on show_posts\n",
    "\n",
    "total_show_comments = 0\n",
    "\n",
    "for row in show_posts:\n",
    "    num_comments = int(row[4])\n",
    "    total_show_comments = total_show_comments + num_comments\n",
    "    \n",
    "avg_show_comments = total_show_comments/len(show_posts)\n",
    "\n",
    "print(\"Total number of comments on show posts:\", total_show_comments)\n",
    "print(\"Average number of comments on ask posts: {:.2f}\".format(avg_show_comments))"
   ]
  },
  {
   "cell_type": "markdown",
   "metadata": {},
   "source": [
    "By analysing the total number of comments determined above, we conclude that the ***ask posts* receive, on average, more comments than *show posts***. Therefore, we will focus our remaining analysis only on the *ask posts*. "
   ]
  },
  {
   "cell_type": "markdown",
   "metadata": {},
   "source": [
    "## Determine if ask posts created at a certain time are more likely to attract comments"
   ]
  },
  {
   "cell_type": "markdown",
   "metadata": {},
   "source": [
    "We will determine if *ask posts* created at a certain time are more likely to attract comments by performing this analysis:\n",
    "\n",
    "- Calculate the amount of ask posts created in each hour of the day, along with the number of comments received.\n",
    "- Calculate the average number of comments per ask posts by hour created."
   ]
  },
  {
   "cell_type": "code",
   "execution_count": 10,
   "metadata": {},
   "outputs": [
    {
     "name": "stdout",
     "output_type": "stream",
     "text": [
      "Hour : Number of ask posts\n",
      "{'02': 269, '01': 282, '22': 383, '21': 518, '19': 552, '17': 587, '15': 646, '14': 513, '13': 444, '11': 312, '10': 282, '09': 222, '07': 226, '03': 271, '23': 343, '20': 510, '16': 579, '08': 257, '00': 301, '18': 614, '12': 342, '04': 243, '06': 234, '05': 209}\n",
      "\n",
      "\n",
      "Hour : Number of comments ask posts\n",
      "{'02': 2996, '01': 2089, '22': 3372, '21': 4500, '19': 3954, '17': 5547, '15': 18525, '14': 4972, '13': 7245, '11': 2797, '10': 3013, '09': 1477, '07': 1585, '03': 2154, '23': 2297, '20': 4462, '16': 4466, '08': 2362, '00': 2277, '18': 4877, '12': 4234, '04': 2360, '06': 1587, '05': 1838}\n"
     ]
    }
   ],
   "source": [
    "# Calculate the amount of ask posts and comments by hour created\n",
    "\n",
    "import datetime as dt\n",
    "\n",
    "result_list = []\n",
    "counts_by_hour = {}    # contains the number of ask posts created during each hour of the day\n",
    "comments_by_hour = {}  # contains the corresponding number of comments ask posts created at each hour received\n",
    "\n",
    "\n",
    "for row in ask_posts:\n",
    "    \n",
    "    num_comments = int(row[4])\n",
    "    created_at = row[6]\n",
    "    result_list.append([created_at, num_comments])\n",
    "    \n",
    "\n",
    "\n",
    "for row in result_list:\n",
    "    \n",
    "    date_time = row[0]\n",
    "    comment = row[1]\n",
    "    \n",
    "    d1_dt = dt.datetime.strptime(date_time, \"%m/%d/%Y %H:%M\")\n",
    "    time = d1_dt.time()\n",
    "\n",
    "    # Select just the hour\n",
    "    hour = time.strftime(\"%H\")\n",
    "\n",
    "    if hour not in counts_by_hour:   \n",
    "        counts_by_hour[hour] = 1\n",
    "        comments_by_hour[hour] = comment\n",
    "    else:\n",
    "        counts_by_hour[hour] += 1\n",
    "        comments_by_hour[hour] += comment\n",
    "\n",
    "print(\"Hour : Number of ask posts\")\n",
    "print(counts_by_hour)\n",
    "print(\"\\n\")\n",
    "print(\"Hour : Number of comments ask posts\")\n",
    "print(comments_by_hour)\n",
    "    "
   ]
  },
  {
   "cell_type": "code",
   "execution_count": 11,
   "metadata": {},
   "outputs": [
    {
     "name": "stdout",
     "output_type": "stream",
     "text": [
      "[Date, Average number of comments per ask posts]\n",
      "[['02', 11.137546468401487], ['01', 7.407801418439717], ['22', 8.804177545691905], ['21', 8.687258687258687], ['19', 7.163043478260869], ['17', 9.449744463373083], ['15', 28.676470588235293], ['14', 9.692007797270955], ['13', 16.31756756756757], ['11', 8.96474358974359], ['10', 10.684397163120567], ['09', 6.653153153153153], ['07', 7.013274336283186], ['03', 7.948339483394834], ['23', 6.696793002915452], ['20', 8.749019607843136], ['16', 7.713298791018998], ['08', 9.190661478599221], ['00', 7.5647840531561465], ['18', 7.94299674267101], ['12', 12.380116959064328], ['04', 9.7119341563786], ['06', 6.782051282051282], ['05', 8.794258373205741]]\n"
     ]
    }
   ],
   "source": [
    "# Calculate the average number of comments per ask posts received during each hour\n",
    "\n",
    "avg_by_hour = list()\n",
    "\n",
    "for k, v in counts_by_hour.items():\n",
    "    avg = comments_by_hour[k]/v\n",
    "    avg_by_hour.append([k, avg])\n",
    "\n",
    "print(\"[Date, Average number of comments per ask posts]\")\n",
    "print(avg_by_hour)"
   ]
  },
  {
   "cell_type": "code",
   "execution_count": 12,
   "metadata": {},
   "outputs": [
    {
     "name": "stdout",
     "output_type": "stream",
     "text": [
      "[Average number of comments per ask posts, Date]\n",
      "[[28.676470588235293, '15'], [16.31756756756757, '13'], [12.380116959064328, '12'], [11.137546468401487, '02'], [10.684397163120567, '10'], [9.7119341563786, '04'], [9.692007797270955, '14'], [9.449744463373083, '17'], [9.190661478599221, '08'], [8.96474358974359, '11'], [8.804177545691905, '22'], [8.794258373205741, '05'], [8.749019607843136, '20'], [8.687258687258687, '21'], [7.948339483394834, '03'], [7.94299674267101, '18'], [7.713298791018998, '16'], [7.5647840531561465, '00'], [7.407801418439717, '01'], [7.163043478260869, '19'], [7.013274336283186, '07'], [6.782051282051282, '06'], [6.696793002915452, '23'], [6.653153153153153, '09']]\n",
      "\n",
      "\n",
      "Top 5 Hours for Ask Posts Comments:\n",
      "15:00: 28.68 average comments per post\n",
      "13:00: 16.32 average comments per post\n",
      "12:00: 12.38 average comments per post\n",
      "02:00: 11.14 average comments per post\n",
      "10:00: 10.68 average comments per post\n",
      "04:00: 9.71 average comments per post\n"
     ]
    }
   ],
   "source": [
    "# Even though we have the results we need, the format above makes it hard to identify the hours with the highest values. \n",
    "\n",
    "# Sort the list of lists and printing the five highest values in a format that's easier to read.\n",
    "\n",
    "swap_avg_by_hour = []\n",
    "\n",
    "for row in avg_by_hour:\n",
    "    swap_avg_by_hour.append([row[1], row[0]])\n",
    "    \n",
    "# sorted() function is used to sort swap_avg_by_hour in descending order\n",
    "sorted_swap = sorted(swap_avg_by_hour, key = None, reverse = True)\n",
    "\n",
    "print(\"[Average number of comments per ask posts, Date]\")\n",
    "print(sorted_swap)\n",
    "print(\"\\n\")\n",
    "\n",
    "print(\"Top 5 Hours for Ask Posts Comments:\")\n",
    "\n",
    "top_5 = sorted_swap[0:6]\n",
    "\n",
    "for row in top_5:\n",
    "    datetime_object = dt.datetime.strptime(row[1], \"%H\")\n",
    "    time_format = datetime_object.strftime(\"%H:%M\")\n",
    "    final_string = \"{}: {:.2f} average comments per post\".format(time_format, float(row[0]))\n",
    "    print(final_string) \n",
    "    "
   ]
  },
  {
   "cell_type": "markdown",
   "metadata": {},
   "source": [
    "We conclude that the posts created at the five hours above receive more comments on average."
   ]
  }
 ],
 "metadata": {
  "kernelspec": {
   "display_name": "Python 3",
   "language": "python",
   "name": "python3"
  },
  "language_info": {
   "codemirror_mode": {
    "name": "ipython",
    "version": 3
   },
   "file_extension": ".py",
   "mimetype": "text/x-python",
   "name": "python",
   "nbconvert_exporter": "python",
   "pygments_lexer": "ipython3",
   "version": "3.9.0"
  }
 },
 "nbformat": 4,
 "nbformat_minor": 4
}
